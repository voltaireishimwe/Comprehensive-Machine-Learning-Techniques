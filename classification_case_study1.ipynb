{
 "cells": [
  {
   "cell_type": "markdown",
   "id": "8b4293d7",
   "metadata": {},
   "source": [
    "# Customer Churn Prediction\n",
    "\n",
    "This notebook performs Exploratory Data Analysis (EDA), cleaning, feature preprocessing, and modeling on `classification_dataset.csv`.\n",
    "\n",
    "**Type:** Classification\n"
   ]
  },
  {
   "cell_type": "markdown",
   "id": "47e2f7d4",
   "metadata": {},
   "source": [
    "## 1. Imports & setup"
   ]
  },
  {
   "cell_type": "code",
   "execution_count": 2,
   "id": "3815fba1",
   "metadata": {},
   "outputs": [],
   "source": [
    "import pandas as pd\n",
    "import numpy as np\n",
    "import matplotlib.pyplot as plt\n",
    "import seaborn as sns\n",
    "from sklearn.model_selection import train_test_split, cross_val_score\n",
    "from sklearn.preprocessing import StandardScaler, OneHotEncoder\n",
    "from sklearn.compose import ColumnTransformer\n",
    "from sklearn.pipeline import Pipeline\n",
    "from sklearn.impute import SimpleImputer\n",
    "from sklearn.ensemble import RandomForestClassifier\n",
    "from sklearn.metrics import classification_report, confusion_matrix, roc_auc_score, mean_absolute_error, mean_squared_error, r2_score\n"
   ]
  },
  {
   "cell_type": "markdown",
   "id": "131defed",
   "metadata": {},
   "source": [
    "## 2. Load & preview data"
   ]
  },
  {
   "cell_type": "code",
   "execution_count": 8,
   "id": "0c6928ca",
   "metadata": {},
   "outputs": [
    {
     "name": "stdout",
     "output_type": "stream",
     "text": [
      "Dataset shape: (1000, 9)\n"
     ]
    },
    {
     "data": {
      "text/html": [
       "<div>\n",
       "<style scoped>\n",
       "    .dataframe tbody tr th:only-of-type {\n",
       "        vertical-align: middle;\n",
       "    }\n",
       "\n",
       "    .dataframe tbody tr th {\n",
       "        vertical-align: top;\n",
       "    }\n",
       "\n",
       "    .dataframe thead th {\n",
       "        text-align: right;\n",
       "    }\n",
       "</style>\n",
       "<table border=\"1\" class=\"dataframe\">\n",
       "  <thead>\n",
       "    <tr style=\"text-align: right;\">\n",
       "      <th></th>\n",
       "      <th>age</th>\n",
       "      <th>income</th>\n",
       "      <th>days_active</th>\n",
       "      <th>num_transactions</th>\n",
       "      <th>avg_transaction</th>\n",
       "      <th>account_balance</th>\n",
       "      <th>region</th>\n",
       "      <th>signup_channel</th>\n",
       "      <th>churn</th>\n",
       "    </tr>\n",
       "  </thead>\n",
       "  <tbody>\n",
       "    <tr>\n",
       "      <th>995</th>\n",
       "      <td>18.0</td>\n",
       "      <td>90784.628442</td>\n",
       "      <td>218.0</td>\n",
       "      <td>17.0</td>\n",
       "      <td>349.206044</td>\n",
       "      <td>171898.798508</td>\n",
       "      <td>South</td>\n",
       "      <td>Referral</td>\n",
       "      <td>0</td>\n",
       "    </tr>\n",
       "    <tr>\n",
       "      <th>996</th>\n",
       "      <td>35.0</td>\n",
       "      <td>68743.497696</td>\n",
       "      <td>NaN</td>\n",
       "      <td>20.0</td>\n",
       "      <td>313.381761</td>\n",
       "      <td>26961.318431</td>\n",
       "      <td>North</td>\n",
       "      <td>Web</td>\n",
       "      <td>0</td>\n",
       "    </tr>\n",
       "    <tr>\n",
       "      <th>997</th>\n",
       "      <td>49.0</td>\n",
       "      <td>38079.541086</td>\n",
       "      <td>91.0</td>\n",
       "      <td>31.0</td>\n",
       "      <td>NaN</td>\n",
       "      <td>-5000.000000</td>\n",
       "      <td>West</td>\n",
       "      <td>Web</td>\n",
       "      <td>0</td>\n",
       "    </tr>\n",
       "    <tr>\n",
       "      <th>998</th>\n",
       "      <td>64.0</td>\n",
       "      <td>54065.859423</td>\n",
       "      <td>NaN</td>\n",
       "      <td>20.0</td>\n",
       "      <td>NaN</td>\n",
       "      <td>88538.993718</td>\n",
       "      <td>West</td>\n",
       "      <td>NaN</td>\n",
       "      <td>0</td>\n",
       "    </tr>\n",
       "    <tr>\n",
       "      <th>999</th>\n",
       "      <td>66.0</td>\n",
       "      <td>48607.279801</td>\n",
       "      <td>238.0</td>\n",
       "      <td>20.0</td>\n",
       "      <td>379.601055</td>\n",
       "      <td>51843.857321</td>\n",
       "      <td>North</td>\n",
       "      <td>Referral</td>\n",
       "      <td>0</td>\n",
       "    </tr>\n",
       "  </tbody>\n",
       "</table>\n",
       "</div>"
      ],
      "text/plain": [
       "      age        income  days_active  num_transactions  avg_transaction  \\\n",
       "995  18.0  90784.628442        218.0              17.0       349.206044   \n",
       "996  35.0  68743.497696          NaN              20.0       313.381761   \n",
       "997  49.0  38079.541086         91.0              31.0              NaN   \n",
       "998  64.0  54065.859423          NaN              20.0              NaN   \n",
       "999  66.0  48607.279801        238.0              20.0       379.601055   \n",
       "\n",
       "     account_balance region signup_channel  churn  \n",
       "995    171898.798508  South       Referral      0  \n",
       "996     26961.318431  North            Web      0  \n",
       "997     -5000.000000   West            Web      0  \n",
       "998     88538.993718   West            NaN      0  \n",
       "999     51843.857321  North       Referral      0  "
      ]
     },
     "execution_count": 8,
     "metadata": {},
     "output_type": "execute_result"
    }
   ],
   "source": [
    "# Load dataset\n",
    "df = pd.read_csv('classification_dataset.csv')\n",
    "#print shape\n",
    "print(\"Dataset shape:\", df.shape)\n",
    "#print tail\n",
    "df.tail()"
   ]
  },
  {
   "cell_type": "markdown",
   "id": "079ae91d",
   "metadata": {},
   "source": [
    "## 3. Exploratory Data Analysis (EDA)"
   ]
  },
  {
   "cell_type": "code",
   "execution_count": 11,
   "id": "1c7bf6e6",
   "metadata": {},
   "outputs": [
    {
     "name": "stdout",
     "output_type": "stream",
     "text": [
      "age                  97\n",
      "income               94\n",
      "days_active          98\n",
      "num_transactions    100\n",
      "avg_transaction     105\n",
      "account_balance     104\n",
      "region               97\n",
      "signup_channel       80\n",
      "churn                 0\n",
      "dtype: int64\n",
      "0    864\n",
      "1    136\n",
      "Name: churn, dtype: int64\n"
     ]
    },
    {
     "data": {
      "image/png": "[encoded data removed]",
      "text/plain": [
       "<Figure size 1000x600 with 2 Axes>"
      ]
     },
     "metadata": {},
     "output_type": "display_data"
    }
   ],
   "source": [
    "# Basic EDA\n",
    "print(df.isnull().sum())\n",
    "print(df['churn'].value_counts())\n",
    "# Missing data heatmap\n",
    "plt.figure(figsize=(10, 6))\n",
    "sns.heatmap(df.isnull(), cbar=True, yticklabels=False)\n",
    "plt.title('Missing Values Heatmap')\n",
    "plt.show()"
   ]
  },
  {
   "cell_type": "markdown",
   "id": "0a8fa271",
   "metadata": {},
   "source": [
    "## 4. Data Cleaning & Preprocessing"
   ]
  },
  {
   "cell_type": "code",
   "execution_count": 12,
   "id": "e19d4208",
   "metadata": {},
   "outputs": [],
   "source": [
    "# Handle missing values and scale features\n",
    "numeric_features = ['age', 'income', 'days_active', 'num_transactions', 'avg_transaction', 'account_balance']\n",
    "categorical_features = ['region', 'signup_channel']\n",
    "\n",
    "numeric_transformer = Pipeline(steps=[\n",
    "    ('imputer', SimpleImputer(strategy='median')),\n",
    "    ('scaler', StandardScaler())])\n",
    "\n",
    "categorical_transformer = Pipeline(steps=[\n",
    "    ('imputer', SimpleImputer(strategy='constant', fill_value='Unknown')),\n",
    "    ('onehot', OneHotEncoder(handle_unknown='ignore'))])\n",
    "\n",
    "preprocessor = ColumnTransformer(\n",
    "    transformers=[\n",
    "        ('num', numeric_transformer, numeric_features),\n",
    "        ('cat', categorical_transformer, categorical_features)])"
   ]
  },
  {
   "cell_type": "markdown",
   "id": "abb45329",
   "metadata": {},
   "source": [
    "## 5. Modeling & Evaluation"
   ]
  },
  {
   "cell_type": "code",
   "execution_count": 23,
   "id": "22365a8a",
   "metadata": {},
   "outputs": [
    {
     "name": "stdout",
     "output_type": "stream",
     "text": [
      "\n",
      "Classification Report:\n",
      "              precision    recall  f1-score   support\n",
      "\n",
      "           0       0.88      0.96      0.92       173\n",
      "           1       0.36      0.15      0.21        27\n",
      "\n",
      "    accuracy                           0.85       200\n",
      "   macro avg       0.62      0.55      0.56       200\n",
      "weighted avg       0.81      0.85      0.82       200\n",
      "\n",
      "\n",
      "ROC AUC Score: 0.8937058445728966\n",
      "\n",
      "Confusion Matrix:\n",
      "[[166   7]\n",
      " [ 23   4]]\n"
     ]
    }
   ],
   "source": [
    "# Train/test split\n",
    "X = df.drop('churn', axis=1)\n",
    "y = df['churn']\n",
    "X_train, X_test, y_train, y_test = train_test_split(X, y, test_size=0.2, random_state=42, stratify=y)\n",
    "# Model pipeline\n",
    "model = Pipeline(steps=[\n",
    "    ('preprocessor', preprocessor),\n",
    "    ('classifier', RandomForestClassifier(random_state=42))])\n",
    "\n",
    "model.fit(X_train, y_train)\n",
    "# make predict\n",
    "y_pred = model.predict(X_test)\n",
    "y_proba = model.predict_proba(X_test)[:, 1]\n",
    "\n",
    "# evaluate model \n",
    "print(\"\\nClassification Report:\")\n",
    "print(classification_report(y_test, y_pred))\n",
    "print(\"\\nROC AUC Score:\", roc_auc_score(y_test, y_proba))\n",
    "print(\"\\nConfusion Matrix:\")\n",
    "print(confusion_matrix(y_test, y_pred))"
   ]
  },
  {
   "cell_type": "code",
   "execution_count": null,
   "id": "1c9ec087",
   "metadata": {},
   "outputs": [],
   "source": []
  }
 ],
 "metadata": {
  "kernelspec": {
   "display_name": "Python 3 (ipykernel)",
   "language": "python",
   "name": "python3"
  },
  "language_info": {
   "codemirror_mode": {
    "name": "ipython",
    "version": 3
   },
   "file_extension": ".py",
   "mimetype": "text/x-python",
   "name": "python",
   "nbconvert_exporter": "python",
   "pygments_lexer": "ipython3",
   "version": "3.9.13"
  }
 },
 "nbformat": 4,
 "nbformat_minor": 5
}
